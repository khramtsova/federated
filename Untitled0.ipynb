{
  "nbformat": 4,
  "nbformat_minor": 0,
  "metadata": {
    "colab": {
      "name": "Untitled0.ipynb",
      "provenance": [],
      "include_colab_link": true
    },
    "kernelspec": {
      "name": "python3",
      "display_name": "Python 3"
    }
  },
  "cells": [
    {
      "cell_type": "markdown",
      "metadata": {
        "id": "view-in-github",
        "colab_type": "text"
      },
      "source": [
        "<a href=\"https://colab.research.google.com/github/khramtsova/federated/blob/master/Untitled0.ipynb\" target=\"_parent\"><img src=\"https://colab.research.google.com/assets/colab-badge.svg\" alt=\"Open In Colab\"/></a>"
      ]
    },
    {
      "cell_type": "code",
      "metadata": {
        "id": "fLvqCU7qk5oK",
        "colab_type": "code",
        "colab": {
          "base_uri": "https://localhost:8080/",
          "height": 208
        },
        "outputId": "23cb563b-b3f5-4d58-a62b-ff3d38e8033a"
      },
      "source": [
        "!pip install --quiet --upgrade tensorflow_federated"
      ],
      "execution_count": 1,
      "outputs": [
        {
          "output_type": "stream",
          "text": [
            "\u001b[K     |████████████████████████████████| 389kB 5.0MB/s \n",
            "\u001b[K     |████████████████████████████████| 2.2MB 20.9MB/s \n",
            "\u001b[K     |████████████████████████████████| 1.7MB 38.6MB/s \n",
            "\u001b[K     |████████████████████████████████| 81kB 28.1MB/s \n",
            "\u001b[K     |████████████████████████████████| 81kB 26.4MB/s \n",
            "\u001b[K     |████████████████████████████████| 395.5MB 58kB/s \n",
            "\u001b[K     |████████████████████████████████| 460kB 38.5MB/s \n",
            "\u001b[K     |████████████████████████████████| 3.8MB 44.0MB/s \n",
            "\u001b[?25h  Building wheel for portpicker (setup.py) ... \u001b[?25l\u001b[?25hdone\n",
            "\u001b[31mERROR: google-colab 1.0.0 has requirement portpicker~=1.2.0, but you'll have portpicker 1.3.1 which is incompatible.\u001b[0m\n",
            "\u001b[31mERROR: datascience 0.10.6 has requirement folium==0.2.1, but you'll have folium 0.8.3 which is incompatible.\u001b[0m\n"
          ],
          "name": "stdout"
        }
      ]
    },
    {
      "cell_type": "code",
      "metadata": {
        "id": "Dtf9gAkqliRL",
        "colab_type": "code",
        "colab": {}
      },
      "source": [
        "!pip install --quiet --upgrade tf-nightly"
      ],
      "execution_count": 0,
      "outputs": []
    },
    {
      "cell_type": "code",
      "metadata": {
        "id": "a9YJ7PLKlidn",
        "colab_type": "code",
        "colab": {
          "base_uri": "https://localhost:8080/",
          "height": 106
        },
        "outputId": "af8eca94-915d-448d-8146-0ce8cc9e69f2"
      },
      "source": [
        "# NOTE: Jupyter requires a patch to asyncio.\n",
        "!pip install --upgrade nest_asyncio\n",
        "import nest_asyncio\n",
        "nest_asyncio.apply()"
      ],
      "execution_count": 3,
      "outputs": [
        {
          "output_type": "stream",
          "text": [
            "Collecting nest_asyncio\n",
            "  Downloading https://files.pythonhosted.org/packages/81/f3/e59eb5fa5c41c7e6ae9741ed18534dbfae15ad29040a3927396678934b28/nest_asyncio-1.2.0-py3-none-any.whl\n",
            "Installing collected packages: nest-asyncio\n",
            "Successfully installed nest-asyncio-1.2.0\n"
          ],
          "name": "stdout"
        }
      ]
    },
    {
      "cell_type": "code",
      "metadata": {
        "id": "y302G8SGlihP",
        "colab_type": "code",
        "colab": {
          "base_uri": "https://localhost:8080/",
          "height": 34
        },
        "outputId": "c722e832-45f6-4519-89e3-81a2ed2dd717"
      },
      "source": [
        "from __future__ import absolute_import, division, print_function\n",
        "\n",
        "import collections\n",
        "import warnings\n",
        "from six.moves import range\n",
        "import numpy as np\n",
        "import six\n",
        "import tensorflow as tf\n",
        "import tensorflow_federated as tff\n",
        "\n",
        "warnings.simplefilter('ignore')\n",
        "\n",
        "tf.compat.v1.enable_v2_behavior()\n",
        "\n",
        "np.random.seed(0)\n",
        "\n",
        "# NOTE: If the statement below fails, it means that you are\n",
        "# using an older version of TFF without the high-performance\n",
        "# executor stack. Call `tff.framework.set_default_executor()`\n",
        "# instead to use the default reference runtime.\n",
        "if six.PY3:\n",
        "  tff.framework.set_default_executor(tff.framework.create_local_executor())\n",
        "\n",
        "tff.federated_computation(lambda: 'Hello, World!')()"
      ],
      "execution_count": 4,
      "outputs": [
        {
          "output_type": "execute_result",
          "data": {
            "text/plain": [
              "b'Hello, World!'"
            ]
          },
          "metadata": {
            "tags": []
          },
          "execution_count": 4
        }
      ]
    },
    {
      "cell_type": "code",
      "metadata": {
        "id": "6wMs6FTblijW",
        "colab_type": "code",
        "colab": {}
      },
      "source": [
        ""
      ],
      "execution_count": 0,
      "outputs": []
    },
    {
      "cell_type": "code",
      "metadata": {
        "id": "gFXMErhzlil3",
        "colab_type": "code",
        "colab": {}
      },
      "source": [
        ""
      ],
      "execution_count": 0,
      "outputs": []
    },
    {
      "cell_type": "code",
      "metadata": {
        "id": "SayxL9HQlipx",
        "colab_type": "code",
        "colab": {}
      },
      "source": [
        ""
      ],
      "execution_count": 0,
      "outputs": []
    }
  ]
}